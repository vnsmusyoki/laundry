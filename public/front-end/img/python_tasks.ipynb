{
  "nbformat": 4,
  "nbformat_minor": 0,
  "metadata": {
    "colab": {
      "name": "python-tasks.ipynb",
      "provenance": []
    },
    "kernelspec": {
      "name": "python3",
      "display_name": "Python 3"
    },
    "language_info": {
      "name": "python"
    }
  },
  "cells": [
    {
      "cell_type": "code",
      "metadata": {
        "id": "fLlc4VSgQzxP"
      },
      "source": [
        "1. (15 pts) Show how you can use these operations to implement a queue (operations Q = create_queue() , enqueue(i) , i = dequeue() )\n",
        "A picture might help to explain your answer\n",
        "Hint: take a look at the following image:\n"
      ],
      "execution_count": null,
      "outputs": []
    },
    {
      "cell_type": "code",
      "metadata": {
        "colab": {
          "base_uri": "https://localhost:8080/"
        },
        "id": "luotmj-nPdIX",
        "outputId": "4cfb78a8-180e-40b0-a3de-432af0c9262b"
      },
      "source": [
        "# Python program to\n",
        "# demonstrate stack implementation\n",
        "# using collections.deque\n",
        "\n",
        "from collections import deque\n",
        "\n",
        "stack = deque()\n",
        "\n",
        "# append() function to push\n",
        "# element in the stack\n",
        "stack.append('a')\n",
        "stack.append('b')\n",
        "stack.append('c')\n",
        "\n",
        "print('Initial stack:')\n",
        "print(stack)\n",
        "\n",
        "# pop() function to pop\n",
        "# element from stack in\n",
        "# LIFO order\n",
        "print('\\nElements popped from stack:')\n",
        "print(stack.pop())\n",
        "print(stack.pop())\n",
        "print(stack.pop())\n",
        "\n",
        "print('\\nStack after elements are popped:')\n",
        "print(stack)\n",
        "\n"
      ],
      "execution_count": 1,
      "outputs": [
        {
          "output_type": "stream",
          "name": "stdout",
          "text": [
            "Initial stack:\n",
            "deque(['a', 'b', 'c'])\n",
            "\n",
            "Elements popped from stack:\n",
            "c\n",
            "b\n",
            "a\n",
            "\n",
            "Stack after elements are popped:\n",
            "deque([])\n"
          ]
        }
      ]
    },
    {
      "cell_type": "code",
      "metadata": {
        "id": "Os2vJrHTQ-jF"
      },
      "source": [
        "2. (5 pts) What's the worst-case running time of your dequeue implementation?"
      ],
      "execution_count": null,
      "outputs": []
    },
    {
      "cell_type": "code",
      "metadata": {
        "id": "aABP58K2P80E"
      },
      "source": [
        "Searching for a value entails going through all of the objects, starting at the top, and working your way down. In the worst-case scenario, you'd have to go through the entire queue, resulting in an  time complexity O(n).\n",
        "The temporal complexity of removing the tail, for example, would be O. (n). This is because you'd need to locate a new tail for the queue, and since the tail in a singly linked list doesn't have access to the preceding element, you'd have to search the entire queue for the new tail.\n",
        "Example\n",
        "function removeLast() {\n",
        "    // Edge case when there is only 1 element in the queue.\n",
        "    if (head == tail) {                   // O(1)\n",
        "        value = head.value                // O(1)\n",
        "        head = null                       // O(1)\n",
        "        tail = null                       // O(1)\n",
        "        return value                      // O(1)\n",
        "    }\n",
        "    // Searching for the new tail.\n",
        "    newTail = head                        // O(1)\n",
        "    while (newTail.next != tail) {        // O(n)\n",
        "        newTail = newTail.next            // O(1)\n",
        "    }\n",
        "    value = tail.value                    // O(1)\n",
        "    newTail.next = null                   // O(1)\n",
        "    tail = newTail                        // O(1)\n",
        "    return tail                           // O(1)    \n",
        "}\n",
        "From which can be seen that the time complexity is indeed O(n).\n"
      ],
      "execution_count": null,
      "outputs": []
    },
    {
      "cell_type": "code",
      "metadata": {
        "id": "8yMU6_ItQJl4"
      },
      "source": [
        "3. (5 pts) Over a series of n enqueues followed by n dequeues, how many pop() operations does your implementation perform?"
      ],
      "execution_count": null,
      "outputs": []
    },
    {
      "cell_type": "code",
      "metadata": {
        "id": "TTUHelxyQQuQ"
      },
      "source": [
        "dequeue for k items would be 2*k\n",
        "Thus for n enqueue and n dequeue operation.\n",
        "Enqueue operation: does not require any pop operation.\n",
        "Dequeue operation: at any time with k entries, we require 2*k pop for one dequeue.\n",
        "So for n operation: 2*n + 2*(n-1) + 2*(n-2) + 2 *(n-3) + . . . . . + 2*(1)\n",
        "= 2 *(n + n-1 + n-2 + n-3 + . . . . 1)\n",
        "= 2* (n * (n-1)) /2\n",
        "= n*(n-1)\n"
      ],
      "execution_count": null,
      "outputs": []
    },
    {
      "cell_type": "code",
      "metadata": {
        "id": "dh6RZWWvQXAg"
      },
      "source": [
        "Bonus Question\n"
      ],
      "execution_count": null,
      "outputs": []
    },
    {
      "cell_type": "code",
      "metadata": {
        "colab": {
          "base_uri": "https://localhost:8080/"
        },
        "id": "JHVto8_4QaDy",
        "outputId": "1899ade7-e04b-4801-b2c5-b198dc69bff7"
      },
      "source": [
        "\n",
        "import sys\n",
        "\n",
        "class MaxHeap:\n",
        "\n",
        "\tdef __init__(self, maxsize):\n",
        "\t\t\n",
        "\t\tself.maxsize = maxsize\n",
        "\t\tself.size = 0\n",
        "\t\tself.Heap = [0] * (self.maxsize + 1)\n",
        "\t\tself.Heap[0] = sys.maxsize\n",
        "\t\tself.FRONT = 1\n",
        "\n",
        "\t# Function to return the position of\n",
        "\t# parent for the node currently\n",
        "\t# at pos\n",
        "\tdef parent(self, pos):\n",
        "\t\t\n",
        "\t\treturn pos // 2\n",
        "\n",
        "\t# Function to return the position of\n",
        "\t# the left child for the node currently\n",
        "\t# at pos\n",
        "\tdef leftChild(self, pos):\n",
        "\t\t\n",
        "\t\treturn 2 * pos\n",
        "\n",
        "\t# Function to return the position of\n",
        "\t# the right child for the node currently\n",
        "\t# at pos\n",
        "\tdef rightChild(self, pos):\n",
        "\t\t\n",
        "\t\treturn (2 * pos) + 1\n",
        "\n",
        "\t# Function that returns true if the passed\n",
        "\t# node is a leaf node\n",
        "\tdef isLeaf(self, pos):\n",
        "\t\t\n",
        "\t\tif pos >= (self.size//2) and pos <= self.size:\n",
        "\t\t\treturn True\n",
        "\t\treturn False\n",
        "\n",
        "\t# Function to swap two nodes of the heap\n",
        "\tdef swap(self, fpos, spos):\n",
        "\t\t\n",
        "\t\tself.Heap[fpos], self.Heap[spos] = (self.Heap[spos],\n",
        "\t\t\t\t\t\t\t\t\t\t\tself.Heap[fpos])\n",
        "\n",
        "\t# Function to heapify the node at pos\n",
        "\tdef maxHeapify(self, pos):\n",
        "\n",
        "\t\t# If the node is a non-leaf node and smaller\n",
        "\t\t# than any of its child\n",
        "\t\tif not self.isLeaf(pos):\n",
        "\t\t\tif (self.Heap[pos] < self.Heap[self.leftChild(pos)] or\n",
        "\t\t\t\tself.Heap[pos] < self.Heap[self.rightChild(pos)]):\n",
        "\n",
        "\t\t\t\t# Swap with the left child and heapify\n",
        "\t\t\t\t# the left child\n",
        "\t\t\t\tif (self.Heap[self.leftChild(pos)] >\n",
        "\t\t\t\t\tself.Heap[self.rightChild(pos)]):\n",
        "\t\t\t\t\tself.swap(pos, self.leftChild(pos))\n",
        "\t\t\t\t\tself.maxHeapify(self.leftChild(pos))\n",
        "\n",
        "\t\t\t\t# Swap with the right child and heapify\n",
        "\t\t\t\t# the right child\n",
        "\t\t\t\telse:\n",
        "\t\t\t\t\tself.swap(pos, self.rightChild(pos))\n",
        "\t\t\t\t\tself.maxHeapify(self.rightChild(pos))\n",
        "\n",
        "\t# Function to insert a node into the heap\n",
        "\tdef insert(self, element):\n",
        "\t\t\n",
        "\t\tif self.size >= self.maxsize:\n",
        "\t\t\treturn\n",
        "\t\tself.size += 1\n",
        "\t\tself.Heap[self.size] = element\n",
        "\n",
        "\t\tcurrent = self.size\n",
        "\n",
        "\t\twhile (self.Heap[current] >\n",
        "\t\t\tself.Heap[self.parent(current)]):\n",
        "\t\t\tself.swap(current, self.parent(current))\n",
        "\t\t\tcurrent = self.parent(current)\n",
        "\n",
        "\t# Function to print the contents of the heap\n",
        "\tdef Print(self):\n",
        "\t\t\n",
        "\t\tfor i in range(1, (self.size // 2) + 1):\n",
        "\t\t\tprint(\" PARENT : \" + str(self.Heap[i]) +\n",
        "\t\t\t\t\" LEFT CHILD : \" + str(self.Heap[2 * i]) +\n",
        "\t\t\t\t\" RIGHT CHILD : \" + str(self.Heap[2 * i + 1]))\n",
        "\n",
        "\t# Function to remove and return the maximum\n",
        "\t# element from the heap\n",
        "\tdef extractMax(self):\n",
        "\n",
        "\t\tpopped = self.Heap[self.FRONT]\n",
        "\t\tself.Heap[self.FRONT] = self.Heap[self.size]\n",
        "\t\tself.size -= 1\n",
        "\t\tself.maxHeapify(self.FRONT)\n",
        "\t\t\n",
        "\t\treturn popped\n",
        "\n",
        "# Driver Code\n",
        "if __name__ == \"__main__\":\n",
        "\t\n",
        "\tprint('The maxHeap is ')\n",
        "\t\n",
        "\tmaxHeap = MaxHeap(15)\n",
        "\tmaxHeap.insert(5)\n",
        "\tmaxHeap.insert(3)\n",
        "\tmaxHeap.insert(17)\n",
        "\tmaxHeap.insert(10)\n",
        "\tmaxHeap.insert(84)\n",
        "\tmaxHeap.insert(19)\n",
        "\tmaxHeap.insert(6)\n",
        "\tmaxHeap.insert(22)\n",
        "\tmaxHeap.insert(9)\n",
        "\n",
        "\tmaxHeap.Print()\n",
        "\t\n",
        "\tprint(\"The Max val is \" + str(maxHeap.extractMax()))\n"
      ],
      "execution_count": 2,
      "outputs": [
        {
          "output_type": "stream",
          "name": "stdout",
          "text": [
            "The maxHeap is \n",
            " PARENT : 84 LEFT CHILD : 22 RIGHT CHILD : 19\n",
            " PARENT : 22 LEFT CHILD : 17 RIGHT CHILD : 10\n",
            " PARENT : 19 LEFT CHILD : 5 RIGHT CHILD : 6\n",
            " PARENT : 17 LEFT CHILD : 3 RIGHT CHILD : 9\n",
            "The Max val is 84\n"
          ]
        }
      ]
    }
  ]
}